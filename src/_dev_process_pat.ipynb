{
 "cells": [
  {
   "cell_type": "code",
   "execution_count": 12,
   "metadata": {},
   "outputs": [],
   "source": [
    "import os\n",
    "import yaml\n",
    "import pandas as pd\n",
    "\n",
    "conf_file_path = '../terra/src/config/config.yaml'\n",
    "\n",
    "with open(conf_file_path) as f:\n",
    "    yaml_conf = yaml.load(f, Loader = yaml.FullLoader)\n",
    "\n",
    "# YAML config file - dataset\n",
    "data_base_path = yaml_conf[\"data_base_path\"]\n",
    "dataset_name = yaml_conf[\"dataset_name\"]\n",
    "\n",
    "dataset_path = os.path.join(data_base_path, dataset_name)\n",
    "data_path = os.path.join(dataset_path, 'dicom')\n",
    "\n",
    "preproc_dataset_name = yaml_conf[\"preproc_dataset_name\"]\n",
    "preproc_dataset_path = os.path.join(data_base_path, preproc_dataset_name)\n",
    "preproc_data_path = os.path.join(preproc_dataset_path, 'nrrd')\n",
    "\n",
    "cohort_table_name = yaml_conf[\"cohort_table_name\"]\n",
    "cohort_table_path = os.path.join(data_base_path, cohort_table_name)\n",
    "cohort_df = pd.read_csv(cohort_table_path)"
   ]
  },
  {
   "cell_type": "code",
   "execution_count": 14,
   "metadata": {},
   "outputs": [],
   "source": [
    "# test patient\n",
    "pat_df = cohort_df[cohort_df[\"PatientID\"] == 'LUNG1-003']"
   ]
  },
  {
   "cell_type": "code",
   "execution_count": 15,
   "metadata": {},
   "outputs": [],
   "source": [
    "pat_dir_name = pat_df['ctStudyInstanceUID'].values[0]"
   ]
  },
  {
   "cell_type": "code",
   "execution_count": 16,
   "metadata": {},
   "outputs": [
    {
     "data": {
      "text/plain": [
       "True"
      ]
     },
     "execution_count": 16,
     "metadata": {},
     "output_type": "execute_result"
    }
   ],
   "source": [
    "pat_dir_path = os.path.join(data_path, pat_dir_name)\n",
    "\n",
    "os.path.exists(pat_dir_path)"
   ]
  },
  {
   "cell_type": "code",
   "execution_count": 17,
   "metadata": {},
   "outputs": [
    {
     "data": {
      "text/html": [
       "<div>\n",
       "<style scoped>\n",
       "    .dataframe tbody tr th:only-of-type {\n",
       "        vertical-align: middle;\n",
       "    }\n",
       "\n",
       "    .dataframe tbody tr th {\n",
       "        vertical-align: top;\n",
       "    }\n",
       "\n",
       "    .dataframe thead th {\n",
       "        text-align: right;\n",
       "    }\n",
       "</style>\n",
       "<table border=\"1\" class=\"dataframe\">\n",
       "  <thead>\n",
       "    <tr style=\"text-align: right;\">\n",
       "      <th></th>\n",
       "      <th>PatientID</th>\n",
       "      <th>ctStudyInstanceUID</th>\n",
       "      <th>ctSeriesInstanceUID</th>\n",
       "      <th>rtstructStudyInstanceUID</th>\n",
       "      <th>rtstructSeriesInstanceUID</th>\n",
       "      <th>segStudyInstanceUID</th>\n",
       "      <th>segSeriesInstanceUID</th>\n",
       "    </tr>\n",
       "  </thead>\n",
       "  <tbody>\n",
       "    <tr>\n",
       "      <th>2</th>\n",
       "      <td>LUNG1-003</td>\n",
       "      <td>1.3.6.1.4.1.32722.99.99.2477262867958601216867...</td>\n",
       "      <td>1.3.6.1.4.1.32722.99.99.2389222799296192439904...</td>\n",
       "      <td>1.3.6.1.4.1.32722.99.99.2477262867958601216867...</td>\n",
       "      <td>1.3.6.1.4.1.32722.99.99.2175894477461117410564...</td>\n",
       "      <td>1.3.6.1.4.1.32722.99.99.2477262867958601216867...</td>\n",
       "      <td>1.2.276.0.7230010.3.1.3.2323910823.23864.15972...</td>\n",
       "    </tr>\n",
       "  </tbody>\n",
       "</table>\n",
       "</div>"
      ],
      "text/plain": [
       "   PatientID                                 ctStudyInstanceUID  \\\n",
       "2  LUNG1-003  1.3.6.1.4.1.32722.99.99.2477262867958601216867...   \n",
       "\n",
       "                                 ctSeriesInstanceUID  \\\n",
       "2  1.3.6.1.4.1.32722.99.99.2389222799296192439904...   \n",
       "\n",
       "                            rtstructStudyInstanceUID  \\\n",
       "2  1.3.6.1.4.1.32722.99.99.2477262867958601216867...   \n",
       "\n",
       "                           rtstructSeriesInstanceUID  \\\n",
       "2  1.3.6.1.4.1.32722.99.99.2175894477461117410564...   \n",
       "\n",
       "                                 segStudyInstanceUID  \\\n",
       "2  1.3.6.1.4.1.32722.99.99.2477262867958601216867...   \n",
       "\n",
       "                                segSeriesInstanceUID  \n",
       "2  1.2.276.0.7230010.3.1.3.2323910823.23864.15972...  "
      ]
     },
     "execution_count": 17,
     "metadata": {},
     "output_type": "execute_result"
    }
   ],
   "source": [
    "pat_df = cohort_df[cohort_df[\"ctStudyInstanceUID\"] == pat_dir_name]\n",
    "\n",
    "pat_df"
   ]
  },
  {
   "cell_type": "code",
   "execution_count": 18,
   "metadata": {},
   "outputs": [
    {
     "data": {
      "text/plain": [
       "'1.3.6.1.4.1.32722.99.99.247726286795860121686796574974227334270'"
      ]
     },
     "execution_count": 18,
     "metadata": {},
     "output_type": "execute_result"
    }
   ],
   "source": [
    "pat_df[\"ctStudyInstanceUID\"].values[0]\n",
    "\n"
   ]
  },
  {
   "cell_type": "code",
   "execution_count": 16,
   "metadata": {},
   "outputs": [
    {
     "data": {
      "text/plain": [
       "'LUNG1-001'"
      ]
     },
     "execution_count": 16,
     "metadata": {},
     "output_type": "execute_result"
    }
   ],
   "source": [
    "pat = pat_df[\"PatientID\"].values[0]\n",
    "\n",
    "pat"
   ]
  },
  {
   "cell_type": "code",
   "execution_count": null,
   "metadata": {},
   "outputs": [],
   "source": []
  }
 ],
 "metadata": {
  "environment": {
   "name": "tf-gpu.1-15.m59",
   "type": "gcloud",
   "uri": "gcr.io/deeplearning-platform-release/tf-gpu.1-15:m59"
  },
  "kernelspec": {
   "display_name": "Python 3",
   "language": "python",
   "name": "python3"
  },
  "language_info": {
   "codemirror_mode": {
    "name": "ipython",
    "version": 3
   },
   "file_extension": ".py",
   "mimetype": "text/x-python",
   "name": "python",
   "nbconvert_exporter": "python",
   "pygments_lexer": "ipython3",
   "version": "3.7.8"
  }
 },
 "nbformat": 4,
 "nbformat_minor": 4
}
